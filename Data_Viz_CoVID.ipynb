{
 "cells": [
  {
   "cell_type": "markdown",
   "metadata": {},
   "source": [
    "# Data Visualization Project - Data Engineering\n",
    "\n",
    "This notebook contains all the data manipulations we will perform throughout the development of the Covid-19 poster project for the Data Visualization curricular unit.\n",
    "\n",
    "The goal of the project is to showcase that the access to Covid-19 vaccines, there is flagrant inequality between developed countries and countries in development. In order to do that, we will rely on data from different sources, mesh it together and output a solid dataset that can be used in a data visualization tool like Tableau or Microsoft PowerBI.\n",
    "\n",
    "#### Brief outline of desired columns and the source used:\n",
    "\n",
    "#### Part 1 - General country information and representation\n",
    "\n",
    "1. Country Name\n",
    "2. Location - polygon design - to allow for representation \n",
    "Sources: World map shapefile: A file with the necessary data to allow world map vizualization; https://hub.arcgis.com/datasets/2b93b06dc0dc4e809d3c8db5cb96ba69_0\n",
    "\n",
    "3. GDP \n",
    "4. Population \n",
    "5. GDP p/capita\n",
    "Source: IMF, World Bank\n",
    "\n",
    "#### Part 2 - Covid Vaccine Data\n",
    "\n",
    "#Contracted quantatity by manufacturer:\n",
    "\n",
    "6. Quantidades adquiridas pfizer\n",
    "7. Quantidades adquiridas Moderna\n",
    "8.\n",
    ".\n",
    ".\n",
    ".\n",
    "Average Price of vaccines - aggregate - não sei onde poderia encontrar isto - Ricardo \n",
    "Data agendada (esperada) para primeiras entrega de vacinas\n",
    "\n",
    "#### Part 3 - The Dream - apenas a pensar depois de dados para as partes 1 e 2 estarem encontrados.\n",
    "\n",
    "Em países ainda sem vacina, já morreram estas........, quantas mais é que estamos dispostos a ter ou aceitar? \n",
    "Mortes confirmadas\n",
    "Mortes projetadas até que o país tenha a vacina (se espere) - não há\n",
    "\n",
    "Data limite de entrega\n",
    "Data esperada do contrato\n",
    "Quantidades verdadeiramente entregues para cada time period!"
   ]
  },
  {
   "cell_type": "code",
   "execution_count": null,
   "metadata": {},
   "outputs": [],
   "source": []
  }
 ],
 "metadata": {
  "kernelspec": {
   "display_name": "Python 3",
   "language": "python",
   "name": "python3"
  },
  "language_info": {
   "codemirror_mode": {
    "name": "ipython",
    "version": 3
   },
   "file_extension": ".py",
   "mimetype": "text/x-python",
   "name": "python",
   "nbconvert_exporter": "python",
   "pygments_lexer": "ipython3",
   "version": "3.8.5"
  }
 },
 "nbformat": 4,
 "nbformat_minor": 4
}
